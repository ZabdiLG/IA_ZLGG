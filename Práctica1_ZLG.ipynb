{
  "nbformat": 4,
  "nbformat_minor": 0,
  "metadata": {
    "colab": {
      "provenance": [],
      "authorship_tag": "ABX9TyMNa1osTTZaCQyFXm0TdDYG",
      "include_colab_link": true
    },
    "kernelspec": {
      "name": "python3",
      "display_name": "Python 3"
    },
    "language_info": {
      "name": "python"
    }
  },
  "cells": [
    {
      "cell_type": "markdown",
      "metadata": {
        "id": "view-in-github",
        "colab_type": "text"
      },
      "source": [
        "<a href=\"https://colab.research.google.com/github/ZabdiLG/IA_ZLGG/blob/main/Pr%C3%A1ctica1_ZLG.ipynb\" target=\"_parent\"><img src=\"https://colab.research.google.com/assets/colab-badge.svg\" alt=\"Open In Colab\"/></a>"
      ]
    },
    {
      "cell_type": "code",
      "execution_count": 10,
      "metadata": {
        "id": "hlyffdJT4Lk4"
      },
      "outputs": [],
      "source": [
        "from keras.models import Sequential\n",
        "from keras.layers import Dense\n",
        "import numpy as np"
      ]
    },
    {
      "cell_type": "code",
      "source": [
        "kilometros = np.array([1, 2, 3, 4, 5])  # Valores en kilómetros\n",
        "metros = np.array([1000, 2000, 3000, 4000, 5000])  # Valores en metros"
      ],
      "metadata": {
        "id": "oR2JlJ5C4TCs"
      },
      "execution_count": 11,
      "outputs": []
    },
    {
      "cell_type": "code",
      "source": [
        "modelo = Sequential()\n",
        "modelo.add(Dense(1, input_dim=1, activation='linear'))"
      ],
      "metadata": {
        "id": "NZzR8cVi4Vmh"
      },
      "execution_count": 12,
      "outputs": []
    },
    {
      "cell_type": "code",
      "source": [
        "modelo.compile(optimizer='sgd', loss='mean_squared_error')"
      ],
      "metadata": {
        "id": "8-wHwP7V4YMM"
      },
      "execution_count": 13,
      "outputs": []
    },
    {
      "cell_type": "code",
      "source": [
        "modelo.fit(kilometros, metros, epochs=1000, verbose=0)"
      ],
      "metadata": {
        "colab": {
          "base_uri": "https://localhost:8080/"
        },
        "id": "oZwkBMIn4adC",
        "outputId": "1ef5096e-f668-419a-f536-4c0deea05bb4"
      },
      "execution_count": 14,
      "outputs": [
        {
          "output_type": "execute_result",
          "data": {
            "text/plain": [
              "<keras.src.callbacks.History at 0x7e213c1c8a00>"
            ]
          },
          "metadata": {},
          "execution_count": 14
        }
      ]
    },
    {
      "cell_type": "code",
      "source": [
        "kilometros_a_convertir = np.array([150, 18, 24]).reshape(-1, 1)\n",
        "metros_convertidos = modelo.predict(kilometros_a_convertir)"
      ],
      "metadata": {
        "colab": {
          "base_uri": "https://localhost:8080/"
        },
        "id": "Yph0dOY74dKR",
        "outputId": "c2107906-9cf6-43af-b9c3-31818e2c439d"
      },
      "execution_count": 15,
      "outputs": [
        {
          "output_type": "stream",
          "name": "stdout",
          "text": [
            "1/1 [==============================] - 0s 68ms/step\n"
          ]
        }
      ]
    },
    {
      "cell_type": "code",
      "source": [
        "for km, m in zip(kilometros_a_convertir, metros_convertidos):\n",
        "    print(f\"{km[0]} kilómetros, son {m[0]:.2f} metros.\")"
      ],
      "metadata": {
        "colab": {
          "base_uri": "https://localhost:8080/"
        },
        "id": "I3AZ-EAv4fTj",
        "outputId": "7d743935-6eec-4c3d-ff4f-91ecd5e991b2"
      },
      "execution_count": 21,
      "outputs": [
        {
          "output_type": "stream",
          "name": "stdout",
          "text": [
            "150 kilómetros, son 149647.25 metros.\n",
            "18 kilómetros, son 17965.32 metros.\n",
            "24 kilómetros, son 23950.87 metros.\n"
          ]
        }
      ]
    }
  ]
}